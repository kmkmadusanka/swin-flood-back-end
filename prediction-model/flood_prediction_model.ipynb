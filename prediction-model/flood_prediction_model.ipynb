{
 "cells": [
  {
   "cell_type": "code",
   "execution_count": null,
   "id": "392a53f8",
   "metadata": {},
   "outputs": [],
   "source": [
    "#pip install mljar-supervised\n",
    "#https://supervised.mljar.com/"
   ]
  },
  {
   "cell_type": "code",
   "execution_count": 2,
   "id": "f5525552",
   "metadata": {},
   "outputs": [],
   "source": [
    "import numpy as np\n",
    "import pandas as pd\n",
    "import seaborn as sns\n",
    "from matplotlib import pyplot as plt\n",
    "\n",
    "from sklearn.model_selection import train_test_split\n",
    "from sklearn.metrics import classification_report, accuracy_score, confusion_matrix, precision_score, recall_score\n",
    "from sklearn.metrics import mean_absolute_error\n",
    "from sklearn.metrics import mean_squared_error\n",
    "from sklearn.metrics import r2_score\n",
    "from sklearn.preprocessing import MinMaxScaler\n",
    "from imblearn.over_sampling import SMOTE\n",
    "from supervised.automl import AutoML"
   ]
  },
  {
   "cell_type": "code",
   "execution_count": 3,
   "id": "2f9476a1",
   "metadata": {},
   "outputs": [],
   "source": [
    "#Load the dataset \n",
    "df = pd.read_csv('malwathu_0.csv')"
   ]
  },
  {
   "cell_type": "code",
   "execution_count": 4,
   "id": "131739a6",
   "metadata": {},
   "outputs": [],
   "source": [
    "# Dropping the null values.\n",
    "df.dropna(inplace = True)"
   ]
  },
  {
   "cell_type": "code",
   "execution_count": 5,
   "id": "37659e9d",
   "metadata": {},
   "outputs": [
    {
     "data": {
      "text/plain": [
       "(4764, 7)"
      ]
     },
     "execution_count": 5,
     "metadata": {},
     "output_type": "execute_result"
    }
   ],
   "source": [
    "#Get the total number of rows and columns (shape)\n",
    "df.shape"
   ]
  },
  {
   "cell_type": "code",
   "execution_count": 8,
   "id": "e97266a7",
   "metadata": {},
   "outputs": [],
   "source": [
    "#x = df.drop(['col1','col2','col3'], axis=1)\n",
    "#Not going to drop any input at 1st notebook\n",
    "\n",
    "#dropping output\n",
    "x = df.drop(['Kappachichiya'], axis=1)"
   ]
  },
  {
   "cell_type": "code",
   "execution_count": 9,
   "id": "252ffdcd",
   "metadata": {},
   "outputs": [
    {
     "data": {
      "text/plain": [
       "(4764, 6)"
      ]
     },
     "execution_count": 9,
     "metadata": {},
     "output_type": "execute_result"
    }
   ],
   "source": [
    "x.shape"
   ]
  },
  {
   "cell_type": "code",
   "execution_count": 10,
   "id": "6c53b521",
   "metadata": {},
   "outputs": [
    {
     "data": {
      "text/html": [
       "<div>\n",
       "<style scoped>\n",
       "    .dataframe tbody tr th:only-of-type {\n",
       "        vertical-align: middle;\n",
       "    }\n",
       "\n",
       "    .dataframe tbody tr th {\n",
       "        vertical-align: top;\n",
       "    }\n",
       "\n",
       "    .dataframe thead th {\n",
       "        text-align: right;\n",
       "    }\n",
       "</style>\n",
       "<table border=\"1\" class=\"dataframe\">\n",
       "  <thead>\n",
       "    <tr style=\"text-align: right;\">\n",
       "      <th></th>\n",
       "      <th>Murrunkan</th>\n",
       "      <th>Pavattakulam</th>\n",
       "      <th>Nachchiduva</th>\n",
       "      <th>Vavniya</th>\n",
       "      <th>Mannr</th>\n",
       "      <th>Apura</th>\n",
       "    </tr>\n",
       "  </thead>\n",
       "  <tbody>\n",
       "    <tr>\n",
       "      <th>Murrunkan</th>\n",
       "      <td>1.000000</td>\n",
       "      <td>0.381640</td>\n",
       "      <td>0.293259</td>\n",
       "      <td>0.418335</td>\n",
       "      <td>0.540338</td>\n",
       "      <td>0.396421</td>\n",
       "    </tr>\n",
       "    <tr>\n",
       "      <th>Pavattakulam</th>\n",
       "      <td>0.381640</td>\n",
       "      <td>1.000000</td>\n",
       "      <td>0.311066</td>\n",
       "      <td>0.639919</td>\n",
       "      <td>0.362455</td>\n",
       "      <td>0.428007</td>\n",
       "    </tr>\n",
       "    <tr>\n",
       "      <th>Nachchiduva</th>\n",
       "      <td>0.293259</td>\n",
       "      <td>0.311066</td>\n",
       "      <td>1.000000</td>\n",
       "      <td>0.346511</td>\n",
       "      <td>0.251897</td>\n",
       "      <td>0.554785</td>\n",
       "    </tr>\n",
       "    <tr>\n",
       "      <th>Vavniya</th>\n",
       "      <td>0.418335</td>\n",
       "      <td>0.639919</td>\n",
       "      <td>0.346511</td>\n",
       "      <td>1.000000</td>\n",
       "      <td>0.414992</td>\n",
       "      <td>0.461856</td>\n",
       "    </tr>\n",
       "    <tr>\n",
       "      <th>Mannr</th>\n",
       "      <td>0.540338</td>\n",
       "      <td>0.362455</td>\n",
       "      <td>0.251897</td>\n",
       "      <td>0.414992</td>\n",
       "      <td>1.000000</td>\n",
       "      <td>0.362199</td>\n",
       "    </tr>\n",
       "    <tr>\n",
       "      <th>Apura</th>\n",
       "      <td>0.396421</td>\n",
       "      <td>0.428007</td>\n",
       "      <td>0.554785</td>\n",
       "      <td>0.461856</td>\n",
       "      <td>0.362199</td>\n",
       "      <td>1.000000</td>\n",
       "    </tr>\n",
       "  </tbody>\n",
       "</table>\n",
       "</div>"
      ],
      "text/plain": [
       "              Murrunkan  Pavattakulam  Nachchiduva   Vavniya     Mannr  \\\n",
       "Murrunkan      1.000000      0.381640     0.293259  0.418335  0.540338   \n",
       "Pavattakulam   0.381640      1.000000     0.311066  0.639919  0.362455   \n",
       "Nachchiduva    0.293259      0.311066     1.000000  0.346511  0.251897   \n",
       "Vavniya        0.418335      0.639919     0.346511  1.000000  0.414992   \n",
       "Mannr          0.540338      0.362455     0.251897  0.414992  1.000000   \n",
       "Apura          0.396421      0.428007     0.554785  0.461856  0.362199   \n",
       "\n",
       "                 Apura  \n",
       "Murrunkan     0.396421  \n",
       "Pavattakulam  0.428007  \n",
       "Nachchiduva   0.554785  \n",
       "Vavniya       0.461856  \n",
       "Mannr         0.362199  \n",
       "Apura         1.000000  "
      ]
     },
     "execution_count": 10,
     "metadata": {},
     "output_type": "execute_result"
    }
   ],
   "source": [
    "#correlation\n",
    "x.corr()"
   ]
  },
  {
   "cell_type": "code",
   "execution_count": 11,
   "id": "50de7058",
   "metadata": {},
   "outputs": [
    {
     "data": {
      "text/html": [
       "<div>\n",
       "<style scoped>\n",
       "    .dataframe tbody tr th:only-of-type {\n",
       "        vertical-align: middle;\n",
       "    }\n",
       "\n",
       "    .dataframe tbody tr th {\n",
       "        vertical-align: top;\n",
       "    }\n",
       "\n",
       "    .dataframe thead th {\n",
       "        text-align: right;\n",
       "    }\n",
       "</style>\n",
       "<table border=\"1\" class=\"dataframe\">\n",
       "  <thead>\n",
       "    <tr style=\"text-align: right;\">\n",
       "      <th></th>\n",
       "      <th>Murrunkan</th>\n",
       "      <th>Pavattakulam</th>\n",
       "      <th>Nachchiduva</th>\n",
       "      <th>Vavniya</th>\n",
       "      <th>Mannr</th>\n",
       "      <th>Apura</th>\n",
       "    </tr>\n",
       "  </thead>\n",
       "  <tbody>\n",
       "    <tr>\n",
       "      <th>0</th>\n",
       "      <td>0.0</td>\n",
       "      <td>0.0</td>\n",
       "      <td>0.0</td>\n",
       "      <td>0.0</td>\n",
       "      <td>0.0</td>\n",
       "      <td>0.0</td>\n",
       "    </tr>\n",
       "    <tr>\n",
       "      <th>1</th>\n",
       "      <td>0.0</td>\n",
       "      <td>0.0</td>\n",
       "      <td>0.0</td>\n",
       "      <td>0.0</td>\n",
       "      <td>0.0</td>\n",
       "      <td>0.0</td>\n",
       "    </tr>\n",
       "    <tr>\n",
       "      <th>2</th>\n",
       "      <td>0.0</td>\n",
       "      <td>0.0</td>\n",
       "      <td>0.0</td>\n",
       "      <td>0.0</td>\n",
       "      <td>0.0</td>\n",
       "      <td>0.0</td>\n",
       "    </tr>\n",
       "    <tr>\n",
       "      <th>3</th>\n",
       "      <td>0.0</td>\n",
       "      <td>0.0</td>\n",
       "      <td>0.0</td>\n",
       "      <td>0.0</td>\n",
       "      <td>0.0</td>\n",
       "      <td>0.0</td>\n",
       "    </tr>\n",
       "    <tr>\n",
       "      <th>4</th>\n",
       "      <td>0.0</td>\n",
       "      <td>0.0</td>\n",
       "      <td>0.0</td>\n",
       "      <td>0.0</td>\n",
       "      <td>0.0</td>\n",
       "      <td>0.0</td>\n",
       "    </tr>\n",
       "  </tbody>\n",
       "</table>\n",
       "</div>"
      ],
      "text/plain": [
       "   Murrunkan  Pavattakulam  Nachchiduva  Vavniya  Mannr  Apura\n",
       "0        0.0           0.0          0.0      0.0    0.0    0.0\n",
       "1        0.0           0.0          0.0      0.0    0.0    0.0\n",
       "2        0.0           0.0          0.0      0.0    0.0    0.0\n",
       "3        0.0           0.0          0.0      0.0    0.0    0.0\n",
       "4        0.0           0.0          0.0      0.0    0.0    0.0"
      ]
     },
     "execution_count": 11,
     "metadata": {},
     "output_type": "execute_result"
    }
   ],
   "source": [
    "#head\n",
    "x.head()"
   ]
  },
  {
   "cell_type": "code",
   "execution_count": 12,
   "id": "682fc74b",
   "metadata": {},
   "outputs": [
    {
     "data": {
      "text/html": [
       "<div>\n",
       "<style scoped>\n",
       "    .dataframe tbody tr th:only-of-type {\n",
       "        vertical-align: middle;\n",
       "    }\n",
       "\n",
       "    .dataframe tbody tr th {\n",
       "        vertical-align: top;\n",
       "    }\n",
       "\n",
       "    .dataframe thead th {\n",
       "        text-align: right;\n",
       "    }\n",
       "</style>\n",
       "<table border=\"1\" class=\"dataframe\">\n",
       "  <thead>\n",
       "    <tr style=\"text-align: right;\">\n",
       "      <th></th>\n",
       "      <th>Murrunkan</th>\n",
       "      <th>Pavattakulam</th>\n",
       "      <th>Nachchiduva</th>\n",
       "      <th>Vavniya</th>\n",
       "      <th>Mannr</th>\n",
       "      <th>Apura</th>\n",
       "    </tr>\n",
       "  </thead>\n",
       "  <tbody>\n",
       "    <tr>\n",
       "      <th>4759</th>\n",
       "      <td>0.0</td>\n",
       "      <td>58.0</td>\n",
       "      <td>62.0</td>\n",
       "      <td>59.3</td>\n",
       "      <td>0.0</td>\n",
       "      <td>15.6</td>\n",
       "    </tr>\n",
       "    <tr>\n",
       "      <th>4760</th>\n",
       "      <td>13.5</td>\n",
       "      <td>8.0</td>\n",
       "      <td>37.5</td>\n",
       "      <td>28.3</td>\n",
       "      <td>0.0</td>\n",
       "      <td>28.2</td>\n",
       "    </tr>\n",
       "    <tr>\n",
       "      <th>4761</th>\n",
       "      <td>9.7</td>\n",
       "      <td>0.0</td>\n",
       "      <td>10.5</td>\n",
       "      <td>0.0</td>\n",
       "      <td>17.8</td>\n",
       "      <td>20.8</td>\n",
       "    </tr>\n",
       "    <tr>\n",
       "      <th>4762</th>\n",
       "      <td>8.7</td>\n",
       "      <td>0.0</td>\n",
       "      <td>2.2</td>\n",
       "      <td>6.9</td>\n",
       "      <td>0.0</td>\n",
       "      <td>4.8</td>\n",
       "    </tr>\n",
       "    <tr>\n",
       "      <th>4763</th>\n",
       "      <td>0.0</td>\n",
       "      <td>0.9</td>\n",
       "      <td>12.5</td>\n",
       "      <td>1.0</td>\n",
       "      <td>3.2</td>\n",
       "      <td>4.2</td>\n",
       "    </tr>\n",
       "  </tbody>\n",
       "</table>\n",
       "</div>"
      ],
      "text/plain": [
       "      Murrunkan  Pavattakulam  Nachchiduva  Vavniya  Mannr  Apura\n",
       "4759        0.0          58.0         62.0     59.3    0.0   15.6\n",
       "4760       13.5           8.0         37.5     28.3    0.0   28.2\n",
       "4761        9.7           0.0         10.5      0.0   17.8   20.8\n",
       "4762        8.7           0.0          2.2      6.9    0.0    4.8\n",
       "4763        0.0           0.9         12.5      1.0    3.2    4.2"
      ]
     },
     "execution_count": 12,
     "metadata": {},
     "output_type": "execute_result"
    }
   ],
   "source": [
    "#tail\n",
    "x.tail()"
   ]
  },
  {
   "cell_type": "code",
   "execution_count": 13,
   "id": "51e9c597",
   "metadata": {},
   "outputs": [],
   "source": [
    "#dropping inputs\n",
    "y = df[\"Kappachichiya\"]"
   ]
  },
  {
   "cell_type": "code",
   "execution_count": 14,
   "id": "b4dc146e",
   "metadata": {},
   "outputs": [
    {
     "data": {
      "text/plain": [
       "0    0.0386\n",
       "1    0.0277\n",
       "2    0.0220\n",
       "3    0.0208\n",
       "4    0.0192\n",
       "Name: Kappachichiya, dtype: float64"
      ]
     },
     "execution_count": 14,
     "metadata": {},
     "output_type": "execute_result"
    }
   ],
   "source": [
    "#head\n",
    "y.head()"
   ]
  },
  {
   "cell_type": "code",
   "execution_count": 15,
   "id": "93313545",
   "metadata": {},
   "outputs": [
    {
     "data": {
      "text/plain": [
       "4759    0.0053\n",
       "4760    0.0067\n",
       "4761    0.1122\n",
       "4762    0.1754\n",
       "4763    0.1171\n",
       "Name: Kappachichiya, dtype: float64"
      ]
     },
     "execution_count": 15,
     "metadata": {},
     "output_type": "execute_result"
    }
   ],
   "source": [
    "#tail\n",
    "y.tail()"
   ]
  },
  {
   "cell_type": "code",
   "execution_count": null,
   "id": "8d523a16",
   "metadata": {},
   "outputs": [],
   "source": []
  }
 ],
 "metadata": {
  "kernelspec": {
   "display_name": "Python 3 (ipykernel)",
   "language": "python",
   "name": "python3"
  },
  "language_info": {
   "codemirror_mode": {
    "name": "ipython",
    "version": 3
   },
   "file_extension": ".py",
   "mimetype": "text/x-python",
   "name": "python",
   "nbconvert_exporter": "python",
   "pygments_lexer": "ipython3",
   "version": "3.11.7"
  }
 },
 "nbformat": 4,
 "nbformat_minor": 5
}
